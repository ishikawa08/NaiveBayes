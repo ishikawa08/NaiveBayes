{
 "cells": [
  {
   "cell_type": "markdown",
   "metadata": {},
   "source": [
    "# 単純ベイズの実装"
   ]
  },
  {
   "cell_type": "markdown",
   "metadata": {},
   "source": [
    "## 概論\n",
    "\n",
    "特徴がカテゴリ変数である場合の単純ベイズ法による分類\n",
    "\n",
    "変数を次のように定義する。\n",
    "\n",
    "・特徴量：$\\mathbf{x_i}=(x_{i1,x_{i2},\\cdots,x_{iK}})$...カテゴリ変数であり、$F_j$個の値のうちの一つを取る。$K$は特徴の種類数である。\n",
    "\n",
    "・クラス：$y$...$C$個の値のうち一つを取る\n",
    "\n",
    "$\\mathbf{X}$と$Y$の同時分布は次式で与えられる。\n",
    "\n",
    "\\begin{equation}\n",
    "    P(\\mathbf{X}, Y) = P(Y) \\prod_{j=1}^K P(X_j|Y)\n",
    "\\end{equation}\n",
    "\n",
    "$P(Y)$と$P(X_j|Y)$の分布が離散分布である場合、\n",
    "学習すべき単純ベイズのパラメータは、$P(y)$と$P(X_j|y)$の2つである。\n",
    "$(y=0,1,\\cdots,C, \\,\\, x_j=1,2,\\cdots,F_j, \\,\\,j=1,2,\\cdots,K)$\n",
    "\n",
    "さらに、$C$や$F_j$は全て1に固定すると、クラスや各特徴量は全て2値変数となり、\n",
    "$P(y)$と$P(X_j|y)$はベルヌーイ分布に従う。\n",
    "\n",
    "大きさ$N$のデータ集合$\\mathcal{D}=\\{ \\mathbf{x_i},y_i \\}$、$i=1,2,\\cdots,N$が与えられると、\n",
    "対数尤度は次式で表される。\n",
    "\n",
    "\\begin{equation}\n",
    "    L\\left(\\mathcal{D};{P(y)},{P(x_j|y)}\\right) = \\sum_{\\{\\mathbf{x_i}, y_i\\} \\in \\mathcal{D}} \\ln P(\\mathbf{x_i}, y_i)\n",
    "\\end{equation}\n",
    "\n",
    "この対数尤度を最大化する最尤推定を行い、$P(y)$と$P(X_j|y)$を求める。\n",
    "\n",
    "このうち、クラスの分布のパラメータ群$P(y)$は次式で計算される。\n",
    "\n",
    "\\begin{equation}\n",
    "    P(y)=\\frac{N[y_i=y]}{N}, y \\in \\{0,1\\}\n",
    "\\end{equation}\n",
    "\n",
    "ただし、$N[y_i=y]$は、データ集合$\\mathcal{D}$のうち、クラス$y_i$の値が$y$である数である。\n",
    "\n",
    "もう一つのパラメータ群$P(X_j|y)$は次式となる。\n",
    "\n",
    "\\begin{equation}\n",
    "    P(X_j|y)=\\frac{N[x_{ij}=x_j,y_i=y]}{N[y_i=y]}\n",
    "\\end{equation}\n",
    "\n",
    "ただし、$N[x_{ij}=x_j,y_i=y]$は、データ集合$\\mathcal{D}$のうち、\n",
    "クラス$y_i$の値が$y$であり、かつ特徴$x_{xy}$の値が$x_{j}$である事例の数である。\n",
    "\n",
    "$(y \\in {0,1}, \\,\\, x_i \\in {0,1}, \\,\\, j=1,2,\\cdots,K)$\n",
    "\n",
    "以上のパラメータの計算に必要な$P(x_{ij}=x{ij}|y_{j}=y)$および$N[x_{ij}=x_{j},y_{i}=y]$は、\n",
    "データ集合$\\mathcal{D}$に対して数え上げることにより計算可能である。\n",
    "\n",
    "予測を行う際には、入力ベクトル$\\mathbf{x}^{\\text{new}}$が与えられたときのクラス事後確率を\n",
    "最大にするクラスを次式で求める。\n",
    "\n",
    "\\begin{equation}\n",
    "    \\begin{aligned}\n",
    "        \\hat{y} &=\\arg \\max _{y} P\\left(y | \\mathbf{x}^{\\text {new }}\\right) \\\\\n",
    "        &=\\arg \\max _{y} \\frac{P(y) P\\left(\\mathbf{x}^{\\text {new }} | y\\right)}{\\sum_{y^{\\prime}} P\\left(y^{\\prime}\\right) P\\left(\\mathbf{x}^{\\text {new }} | y^{\\prime}\\right)} \\\\\n",
    "        &=\\arg \\max _{y} P(y) P\\left(\\mathbf{x}^{\\text {new }} | y\\right) \\\\\n",
    "        &=\\arg \\max _{y}\\left(P(y) \\prod_{j} P\\left(x_{j}^{\\text {new }} | y\\right)\\right) \\\\\n",
    "        &=\\arg \\max _{y}\\left(\\log P(y)+\\sum_{j} \\log P\\left(x_{j}^{\\text {new }} | y\\right)\\right)\n",
    "    \\end{aligned}\n",
    "\\end{equation}\n",
    "\n",
    "この式は、求めたパラメータ$P(y)$、$P(X_j|y)$を利用して計算される。\n",
    "\n",
    "なお、最後に対数を取っているのは、浮動小数点計算による計算結果の不安定さを回避するためである。\n"
   ]
  },
  {
   "cell_type": "markdown",
   "metadata": {},
   "source": [
    "## NaiveBayesクラスの実装"
   ]
  },
  {
   "cell_type": "code",
   "execution_count": 1,
   "metadata": {},
   "outputs": [],
   "source": [
    "import numpy as np\n",
    "\n",
    "\n",
    "class NaiveBayes():\n",
    "    \n",
    "    def __init__(self):\n",
    "        self.pY_ = None    # p(y)\n",
    "        self.pXgY_ = None  # p(xi | y)\n",
    "\n",
    "    def fit(self, X, y):\n",
    "        \n",
    "        # 定数を定義\n",
    "        n_samples = X.shape[0]   # サンプル数\n",
    "        n_features = X.shape[1]  # 特徴数\n",
    "        n_classes = 2  # クラス数 (2値)\n",
    "        n_fvalues = 2  # 特徴数 (2値)\n",
    "\n",
    "        # 特徴の事例数とクラスラベルの事例数は一致していなければならない\n",
    "        if n_samples != len(y):\n",
    "            raise ValueError('Mismatched number of samples.')\n",
    "\n",
    "        # N[yi=y] の数を数え上げる\n",
    "        nY = np.zeros(n_classes, dtype=int)\n",
    "        for i in range(n_samples):\n",
    "            nY[y[i]] += 1\n",
    "\n",
    "        # pY_ (p(y_i)) を計算する\n",
    "        self.pY_ = np.empty(n_classes, dtype=float)\n",
    "        for i in range(n_classes):\n",
    "            self.pY_[i] = nY[i] / n_samples\n",
    "\n",
    "        # N[x_ij=xj, yi=y] の数を数え上げる\n",
    "        nXY = np.zeros((n_features, n_fvalues, n_classes), dtype=int)\n",
    "        for i in range(n_samples):\n",
    "            for j in range(n_features):\n",
    "                nXY[j, X[i, j], y[i]] += 1\n",
    "\n",
    "        # pXgY_ (p(xi | y)) を計算する\n",
    "        self.pXgY_ = np.empty((n_features, n_fvalues, n_classes),dtype=float)\n",
    "        for j in range(n_features):\n",
    "            for xi in range(n_fvalues):\n",
    "                for yi in range(n_classes):\n",
    "                    self.pXgY_[j, xi, yi] = nXY[j, xi, yi] / nY[yi]\n",
    "\n",
    "    def predict(self, X):\n",
    "\n",
    "        n_samples = X.shape[0]\n",
    "        n_features = X.shape[1]\n",
    "        y = np.empty(n_samples, dtype=int)\n",
    "\n",
    "        # 対数同時確率を計算\n",
    "        for i, xi in enumerate(X):\n",
    "            logpXY = (np.log(self.pY_) +\n",
    "                      np.sum(np.log(self.pXgY_[np.arange(n_features), xi, :]), axis=0))\n",
    "            # クラスを予測\n",
    "            y[i] = np.argmax(logpXY)\n",
    "            \n",
    "        return y"
   ]
  },
  {
   "cell_type": "markdown",
   "metadata": {},
   "source": [
    "## 予測の実行\n",
    "データセットにはUCI Repositpryの[Congressional Voting Records Data Set](http://archive.ics.uci.edu/ml/datasets/Congressional+Voting+Records)を用いる。\n",
    "これはアメリカ議会での16種の議題に対する投票行動を特徴とし，議員が共和党 (0) と民主党 (1) のいずれであるかがクラスである。"
   ]
  },
  {
   "cell_type": "code",
   "execution_count": 2,
   "metadata": {},
   "outputs": [
    {
     "name": "stdout",
     "output_type": "stream",
     "text": [
      "n T P\n",
      "0 1 1\n",
      "1 1 1\n",
      "2 0 0\n",
      "3 0 0\n",
      "4 0 0\n",
      "5 0 0\n",
      "6 0 1\n",
      "7 1 1\n",
      "8 1 1\n",
      "9 0 0\n"
     ]
    }
   ],
   "source": [
    "data_dir = './../data/'\n",
    "data = np.genfromtxt(data_dir+'vote_filled.tsv', dtype=int)\n",
    "X = data[:, :-1]\n",
    "y = data[:, -1]\n",
    "\n",
    "bayes=NaiveBayes()\n",
    "bayes.fit(X,y)\n",
    "\n",
    "predict_y = bayes.predict(X[:10, :])\n",
    "print('n T P')\n",
    "for i in range(10):\n",
    "    print(i, y[i], predict_y[i])"
   ]
  },
  {
   "cell_type": "markdown",
   "metadata": {},
   "source": [
    "## 参考文献\n",
    "Toshihiro Kamishima \"Machine Learning Meets Python\" https://github.com/tkamishima/mlmpy online accessed:2020/05/17"
   ]
  }
 ],
 "metadata": {
  "kernelspec": {
   "display_name": "Python 3",
   "language": "python",
   "name": "python3"
  },
  "language_info": {
   "codemirror_mode": {
    "name": "ipython",
    "version": 3
   },
   "file_extension": ".py",
   "mimetype": "text/x-python",
   "name": "python",
   "nbconvert_exporter": "python",
   "pygments_lexer": "ipython3",
   "version": "3.7.6"
  }
 },
 "nbformat": 4,
 "nbformat_minor": 4
}
