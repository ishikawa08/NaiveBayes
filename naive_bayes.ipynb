{
 "cells": [
  {
   "cell_type": "markdown",
   "metadata": {},
   "source": [
    "# 単純ベイズの実装"
   ]
  },
  {
   "cell_type": "code",
   "execution_count": 2,
   "metadata": {},
   "outputs": [],
   "source": [
    "import numpy as np\n",
    "\n",
    "\n",
    "class NaiveBayes():\n",
    "    def __init__(self):\n",
    "        self.pY_ = None    # p(y)\n",
    "        self.pXgY_ = None  # p(xi|y)\n",
    "\n",
    "    def fit(self, X, y):\n",
    "        \n",
    "        # 定数を定義\n",
    "        n_samples = X.shape[0]   # サンプル数\n",
    "        n_features = X.shape[1]  # 特徴数\n",
    "        n_classes = 2  # クラス数 (2値)\n",
    "        n_fvalues = 2  # 特徴数 (2値)\n",
    "\n",
    "        # 特徴の事例数とクラスラベルの事例数は一致していなければならない\n",
    "        if n_samples != len(y):\n",
    "            raise ValueError('Mismatched number of samples.')\n",
    "\n",
    "        # N[yi=y] の数を数え上げる\n",
    "        nY = np.zeros(n_classes, dtype=int)\n",
    "        for i in range(n_samples):\n",
    "            nY[y[i]] += 1\n",
    "\n",
    "        # pY_ (p(y_i)) を計算する\n",
    "        self.pY_ = np.empty(n_classes, dtype=float)\n",
    "        for i in range(n_classes):\n",
    "            self.pY_[i] = nY[i] / n_samples\n",
    "\n",
    "        # N[x_ij=xj, yi=y] の数を数え上げる\n",
    "        nXY = np.zeros((n_features, n_fvalues, n_classes), dtype=int)\n",
    "        for i in range(n_samples):\n",
    "            for j in range(n_features):\n",
    "                nXY[j, X[i, j], y[i]] += 1\n",
    "\n",
    "        # pXgY_ (p(xi|y)) を計算する\n",
    "        self.pXgY_ = np.empty((n_features, n_fvalues, n_classes),dtype=float)\n",
    "        for j in range(n_features):\n",
    "            for xi in range(n_fvalues):\n",
    "                for yi in range(n_classes):\n",
    "                    self.pXgY_[j, xi, yi] = nXY[j, xi, yi] / nY[yi]\n",
    "\n",
    "    def predict(self, X):\n",
    "\n",
    "        n_samples = X.shape[0]\n",
    "        n_features = X.shape[1]\n",
    "        y = np.empty(n_samples, dtype=int)\n",
    "\n",
    "        # 対数同時確率を計算\n",
    "        for i, xi in enumerate(X):\n",
    "            logpXY = (np.log(self.pY_) +\n",
    "                      np.sum(np.log(self.pXgY_[np.arange(n_features), xi, :]), axis=0))\n",
    "\n",
    "            # クラスを予測\n",
    "            y[i] = np.argmax(logpXY)\n",
    "\n",
    "        return y"
   ]
  },
  {
   "cell_type": "markdown",
   "metadata": {},
   "source": [
    "## NaiveBayesクラスの実装"
   ]
  },
  {
   "cell_type": "code",
   "execution_count": 8,
   "metadata": {},
   "outputs": [
    {
     "output_type": "stream",
     "name": "stdout",
     "text": "n T P\n0 1 1\n1 1 1\n2 0 0\n3 0 0\n4 0 0\n5 0 0\n6 0 1\n7 1 1\n8 1 1\n9 0 0\n"
    }
   ],
   "source": [
    "\n",
    "data = np.genfromtxt('vote_filled.tsv', dtype=int)\n",
    "X = data[:, :-1]\n",
    "y = data[:, -1]\n",
    "\n",
    "bayes=NaiveBayes()\n",
    "bayes.fit(X,y)\n",
    "\n",
    "predict_y = bayes.predict(X[:10, :])\n",
    "print('n T P')\n",
    "for i in range(10):\n",
    "    print(i, y[i], predict_y[i])\n"
   ]
  },
  {
   "cell_type": "markdown",
   "metadata": {},
   "source": [
    "## 予測の実行\n",
    "データセットにはUCI Repositpryの[Congressional Voting Records Data Set](http://archive.ics.uci.edu/ml/datasets/Congressional+Voting+Records)を用いる。\n",
    "これはアメリカ議会での16種の議題に対する投票行動を特徴とし，議員が共和党 (0) と民主党 (1) のいずれであるかがクラスである。"
   ]
  },
  {
   "cell_type": "markdown",
   "metadata": {},
   "source": [
    "## 参考文献\n",
    "Toshihiro Kamishima \"Machine Learning Meets Python\" https://github.com/tkamishima/mlmpy [online accessed: 2020/05/17]"
   ]
  }
 ],
 "metadata": {
  "kernelspec": {
   "display_name": "Python 3",
   "language": "python",
   "name": "python3"
  },
  "language_info": {
   "codemirror_mode": {
    "name": "ipython",
    "version": 3
   },
   "file_extension": ".py",
   "mimetype": "text/x-python",
   "name": "python",
   "nbconvert_exporter": "python",
   "pygments_lexer": "ipython3",
   "version": "3.7.6-final"
  }
 },
 "nbformat": 4,
 "nbformat_minor": 4
}